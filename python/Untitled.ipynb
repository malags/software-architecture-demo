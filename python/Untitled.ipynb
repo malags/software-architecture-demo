{
 "cells": [
  {
   "cell_type": "code",
   "execution_count": 3,
   "metadata": {},
   "outputs": [
    {
     "name": "stdout",
     "output_type": "stream",
     "text": [
      "result = number: 3\n",
      "\n"
     ]
    }
   ],
   "source": [
    "import grpc\n",
    "\n",
    "import CalculatorService_pb2_grpc\n",
    "import CalculatorService_pb2\n",
    "\n",
    "from CalculatorService_pb2 import MyNumbers, MyNumber, Nothing\n",
    "\n",
    "#python -m grpc_tools.protoc -I./proto --python_out=. --grpc_python_out=. ./proto/CalculatorService.proto\n",
    "\n",
    "with grpc.insecure_channel('localhost:8080') as channel:\n",
    "    stub = CalculatorService_pb2_grpc.CalculatorServiceStub(channel)\n",
    "\n",
    "    num1 = MyNumber(number = 1)\n",
    "    num2 = MyNumber(number = 2)\n",
    "    numbers = MyNumbers(numbers = [num1, num2])\n",
    "    result = stub.add(numbers)\n",
    "    print (\"result =\",result)\n"
   ]
  },
  {
   "cell_type": "code",
   "execution_count": null,
   "metadata": {},
   "outputs": [],
   "source": [
    "with grpc.insecure_channel('localhost:8080') as channel:\n",
    "    stub = CalculatorService_pb2_grpc.CalculatorServiceStub(channel)\n",
    "    \n",
    "    #sync request\n",
    "    print (\"calling wait\")\n",
    "    stub.waitSomeTime(Nothing())\n",
    "    print (\"wait returned\")"
   ]
  },
  {
   "cell_type": "code",
   "execution_count": null,
   "metadata": {},
   "outputs": [],
   "source": [
    "with grpc.insecure_channel('localhost:8080') as channel:\n",
    "    stub = CalculatorService_pb2_grpc.CalculatorServiceStub(channel)\n",
    "    \n",
    "    #async request\n",
    "    print (\"fibonacci but async\")\n",
    "    future = stub.waitSomeTime.future(Nothing())\n",
    "    print (\"waiting\")\n",
    "    result = future.result()\n",
    "    print (\"done\")"
   ]
  },
  {
   "cell_type": "code",
   "execution_count": null,
   "metadata": {},
   "outputs": [],
   "source": [
    "with grpc.insecure_channel('localhost:8080') as channel:\n",
    "    stub = CalculatorService_pb2_grpc.CalculatorServiceStub(channel)\n",
    "    \n",
    "    #cancel request\n",
    "    print (\"fibonacci but cancel\")\n",
    "    future = stub.waitSomeTime.future(Nothing())\n",
    "    print (\"cancel\")\n",
    "    future.cancel()\n",
    "    print (\"cancelled request\")"
   ]
  },
  {
   "cell_type": "code",
   "execution_count": null,
   "metadata": {},
   "outputs": [],
   "source": []
  }
 ],
 "metadata": {
  "kernelspec": {
   "display_name": "Python 3",
   "language": "python",
   "name": "python3"
  },
  "language_info": {
   "codemirror_mode": {
    "name": "ipython",
    "version": 3
   },
   "file_extension": ".py",
   "mimetype": "text/x-python",
   "name": "python",
   "nbconvert_exporter": "python",
   "pygments_lexer": "ipython3",
   "version": "3.7.3"
  }
 },
 "nbformat": 4,
 "nbformat_minor": 2
}
